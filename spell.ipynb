{
 "cells": [
  {
   "cell_type": "code",
   "execution_count": 6,
   "id": "28a3291f",
   "metadata": {},
   "outputs": [
    {
     "name": "stdout",
     "output_type": "stream",
     "text": [
      "Requirement already satisfied: autocorrect in c:\\users\\sherif\\.virtualenvs\\correct-utlgmn5j\\lib\\site-packages (2.6.1)Note: you may need to restart the kernel to use updated packages.\n",
      "\n",
      "--F=C:\\USERS\\SERIF\\APPDATA\\ROARING\\JUPITER\\RUNTIME\\KERNEL-V2-94883S1ORDAL7B64.SONhi\n"
     ]
    }
   ],
   "source": [
    "%pip install autocorrect\n",
    "import sys\n",
    "from autocorrect import Speller\n",
    "def correct_spelling(text):\n",
    "    spell = Speller(lang='en')\n",
    "    words = text.split()\n",
    "    corrected_words = [spell(w) for w in words]\n",
    "    corrected_text = ' '.join(corrected_words)\n",
    "    return corrected_text\n",
    "if __name__ == \"__main__\":\n",
    "    input_text = sys.argv[1]\n",
    "    corrected_text = correct_spelling(input_text)\n",
    "    corrected_text = corrected_text.upper()\n",
    "    print(corrected_text + \"hi\")"
   ]
  }
 ],
 "metadata": {
  "kernelspec": {
   "display_name": "Python 3 (ipykernel)",
   "language": "python",
   "name": "python3"
  },
  "language_info": {
   "codemirror_mode": {
    "name": "ipython",
    "version": 3
   },
   "file_extension": ".py",
   "mimetype": "text/x-python",
   "name": "python",
   "nbconvert_exporter": "python",
   "pygments_lexer": "ipython3",
   "version": "3.12.2"
  }
 },
 "nbformat": 4,
 "nbformat_minor": 5
}
